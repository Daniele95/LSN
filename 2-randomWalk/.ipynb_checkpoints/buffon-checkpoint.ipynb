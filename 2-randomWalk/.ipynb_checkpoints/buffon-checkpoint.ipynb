{
 "cells": [
  {
   "cell_type": "markdown",
   "metadata": {},
   "source": [
    "### Exercise 01.3\n",
    "- **Simulate** the Buffon’s experiment (see LSN_Lecture_00, supplementary material):  A needle of length $L$ is thrown at random onto a horizontal plane ruled with straight lines a distance $d$ (must be $d > L$, but do not use $d\\gg L$ otherwise $P\\ll 1$) apart. The probability $P$ that the needle will intersect one of these lines is: $P = 2L/\\pi d$. This could be used to evaluate $\\pi$ from throws of the needle: if the needle is thrown down $N_{thr}$ times and is observed to land on a line $N_{hit}$ of those times, we can make an estimate of $\\pi$ from\n",
    "$$\\pi = \\frac{2L}{Pd} = \\lim_{N_{thr} \\to \\infty}\\frac{2LN_{thr}}{N_{hit}d}$$\n",
    "<font color=\"red\">Make a picture of the estimation of $\\pi$ and its uncertainty (Standard Deviation of the mean) with a large number of *throws* $M$ as a function of the number of blocks, $N$</font> (see below: Computing statistical uncertainties). If possible, do not use $\\pi$ to evaluate $\\pi$."
   ]
  },
  {
   "cell_type": "code",
   "execution_count": 33,
   "metadata": {
    "scrolled": false
   },
   "outputs": [],
   "source": [
    "import numpy as np\n",
    "import matplotlib.pyplot as plt\n",
    "import math\n",
    "\n",
    "\n",
    "M=500000\n",
    "d = 3 #spaziatura righe\n",
    "L = 1.4 #lunghezza ago\n",
    "\n",
    "np.random.seed(3) \n",
    "o = np.random.rand(M)*d\n",
    "\n",
    "#da -L a L\n",
    "x = np.random.rand(M)\n",
    "x = (x*2-1)*L\n",
    "y = np.random.rand(M)\n",
    "y = (y*2-1)*L\n",
    "\n",
    "#quadrato di raggio L, butto via quelli fuori dal cerchio\n",
    "a = y[(x**2+y**2)<L]\n",
    "\n",
    "x= x[(x**2+y**2)<L]\n",
    "\n",
    "y=a\n",
    "\n",
    "#plt.scatter(x,y,s=.1)\n"
   ]
  },
  {
   "cell_type": "code",
   "execution_count": 35,
   "metadata": {},
   "outputs": [
    {
     "data": {
      "text/plain": [
       "array([ 4., 25., 25., ..., 23., 27., 34.])"
      ]
     },
     "execution_count": 35,
     "metadata": {},
     "output_type": "execute_result"
    },
    {
     "data": {
      "image/png": "[encoded data removed]",
      "text/plain": [
       "<Figure size 432x288 with 1 Axes>"
      ]
     },
     "metadata": {
      "needs_background": "light"
     },
     "output_type": "display_data"
    }
   ],
   "source": [
    "# controllo l'uniformità di questi angoli\n",
    "theta = np.arctan2(x,y)\n",
    "\n",
    "v=np.empty([])\n",
    "\n",
    "for angle in np.arange (0, 3.14159/2,.0005):\n",
    "    \n",
    "    num = (theta[(theta >angle) & (theta <angle+0.0005)] ).size\n",
    "    v=np.append(v, num)\n",
    "    \n",
    "    \n",
    "n, bins, patches = plt.hist(v,40)\n",
    "v"
   ]
  },
  {
   "cell_type": "code",
   "execution_count": 30,
   "metadata": {},
   "outputs": [
    {
     "data": {
      "text/plain": [
       "3.1401116657067893"
      ]
     },
     "execution_count": 30,
     "metadata": {},
     "output_type": "execute_result"
    }
   ],
   "source": [
    "#verifica se c'è l'intersezione\n",
    "\n",
    "x=np.divide(x,np.sqrt(x**2+y**2))*L\n",
    "\n",
    "\n",
    "xPunta = o[0:x.size]+x;\n",
    "\n",
    "vettoreIntersezioni =  xPunta[(xPunta>d) | (xPunta<0.)]\n",
    "\n",
    "colpiti = vettoreIntersezioni.size\n",
    "\n",
    "P = colpiti/x.size\n",
    "pigreco = (2/P)*(L/d)\n",
    "pigreco"
   ]
  },
  {
   "cell_type": "code",
   "execution_count": 90,
   "metadata": {},
   "outputs": [
    {
     "data": {
      "image/png": "[encoded data removed]",
      "text/plain": [
       "<Figure size 432x288 with 1 Axes>"
      ]
     },
     "metadata": {
      "needs_background": "light"
     },
     "output_type": "display_data"
    }
   ],
   "source": [
    "#plot c++ data\n",
    "\n",
    "M=100000              # Total number of throws\n",
    "N=100                 # Number of blocks\n",
    "L=int(M/N)            # Number of throws in each block (=experiment)\n",
    "\n",
    "d = 1.2\n",
    "l=1.\n",
    "\n",
    "x = np.arange(N)      # [0,1,2,...,N-1]\n",
    "\n",
    "x*=L                  # Number of throws = block * (Number of throws in each block)\n",
    "\n",
    "sum_prog = np.loadtxt(fname = \"rMedia.txt\")\n",
    "err_prog = np.loadtxt(fname = \"rErrore.txt\")\n",
    "\n",
    "pigreco= (2./sum_prog)*(l/d)\n",
    "errPi = err_prog *pigreco/sum_prog\n",
    "\n",
    "\n",
    "plt.errorbar(x,pigreco,yerr=errPi)\n",
    "plt.xlabel('#throws')\n",
    "plt.ylim(top=3.15,bottom=3.125)\n",
    "#plt.xlim(right=1e7,left=0.99e7)\n",
    "plt.grid(True)\n",
    "plt.show()"
   ]
  },
  {
   "cell_type": "code",
   "execution_count": 92,
   "metadata": {},
   "outputs": [
    {
     "data": {
      "text/plain": [
       "array([2.97619048, 2.97619048, 3.03030303, ..., 3.13941186, 3.13944734,\n",
       "       3.13943552])"
      ]
     },
     "execution_count": 92,
     "metadata": {},
     "output_type": "execute_result"
    }
   ],
   "source": [
    "pigreco"
   ]
  },
  {
   "cell_type": "code",
   "execution_count": 93,
   "metadata": {},
   "outputs": [
    {
     "data": {
      "text/plain": [
       "array([0.        , 0.00017213, 0.0389616 , ..., 0.00293325, 0.00293326,\n",
       "       0.00293297])"
      ]
     },
     "execution_count": 93,
     "metadata": {},
     "output_type": "execute_result"
    }
   ],
   "source": [
    "errPi"
   ]
  },
  {
   "cell_type": "code",
   "execution_count": null,
   "metadata": {},
   "outputs": [],
   "source": []
  }
 ],
 "metadata": {
  "kernelspec": {
   "display_name": "Python 3",
   "language": "python",
   "name": "python3"
  },
  "language_info": {
   "codemirror_mode": {
    "name": "ipython",
    "version": 3
   },
   "file_extension": ".py",
   "mimetype": "text/x-python",
   "name": "python",
   "nbconvert_exporter": "python",
   "pygments_lexer": "ipython3",
   "version": "3.7.0"
  }
 },
 "nbformat": 4,
 "nbformat_minor": 2
}
